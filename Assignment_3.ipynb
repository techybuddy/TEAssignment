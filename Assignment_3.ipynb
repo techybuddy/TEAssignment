{
 "cells": [
  {
   "cell_type": "markdown",
   "id": "520dc8c6",
   "metadata": {},
   "source": [
    "# Assignment 2"
   ]
  },
  {
   "cell_type": "markdown",
   "id": "3256cd49",
   "metadata": {},
   "source": [
    "Roll No: 33136"
   ]
  },
  {
   "cell_type": "markdown",
   "id": "3bbf34d3",
   "metadata": {},
   "source": [
    "Implement n-queens problem using Hill-climbing."
   ]
  },
  {
   "cell_type": "code",
   "execution_count": 1,
   "id": "5fe7c97a",
   "metadata": {},
   "outputs": [],
   "source": [
    "import random\n",
    "from array import array\n",
    "import numpy as np"
   ]
  },
  {
   "cell_type": "code",
   "execution_count": 2,
   "id": "51836e2a",
   "metadata": {},
   "outputs": [],
   "source": [
    "board = [[0,0,0,0,0,0,0,0],\n",
    " [0,0,0,0,0,0,0,0],\n",
    " [0,0,0,0,0,0,0,0],\n",
    " [0,0,0,0,0,0,0,0],\n",
    " [0,0,0,0,0,0,0,0],\n",
    " [0,0,0,0,0,0,0,0],\n",
    " [0,0,0,0,0,0,0,0],\n",
    " [0,0,0,0,0,0,0,0]]\n",
    "\n",
    "neighbour = [[0,0,0,0,0,0,0,0],\n",
    " [0,0,0,0,0,0,0,0],\n",
    " [0,0,0,0,0,0,0,0],\n",
    " [0,0,0,0,0,0,0,0],\n",
    " [0,0,0,0,0,0,0,0],\n",
    " [0,0,0,0,0,0,0,0],\n",
    " [0,0,0,0,0,0,0,0],\n",
    " [0,0,0,0,0,0,0,0]]\n",
    "\n",
    "queens = [0,0,0,0,0,0,0,0]"
   ]
  },
  {
   "cell_type": "code",
   "execution_count": 3,
   "id": "e1206966",
   "metadata": {},
   "outputs": [],
   "source": [
    "def collision_count(column,row):\n",
    "    coll = 0\n",
    "   \n",
    "    for j in range(8):\n",
    "        if j == row:\n",
    "            continue\n",
    "        if board[column][j] == 1 :\n",
    "            coll += 1\n",
    "    \n",
    "    while(column < 7 and row < 7):\n",
    "        row += 1\n",
    "        column +=1\n",
    "        if board[column][row] == 1:\n",
    "            coll += 1\n",
    "  \n",
    "    while(column > 0 and row > 0):\n",
    "        row -= 1\n",
    "        column -=1\n",
    "        if board[column][row] == 1:\n",
    "            coll += 1\n",
    "    \n",
    "    while(column > 0 and row < 7):\n",
    "        row += 1\n",
    "        column -=1\n",
    "        if board[column][row] == 1:\n",
    "            coll += 1\n",
    " \n",
    "    while(column < 7 and row > 0):\n",
    "        row -= 1\n",
    "        column +=1\n",
    "        if board[column][row] == 1:\n",
    "            coll += 1\n",
    "                     \n",
    "    return coll     \n"
   ]
  },
  {
   "cell_type": "code",
   "execution_count": 4,
   "id": "a796b407",
   "metadata": {},
   "outputs": [],
   "source": [
    "def totalcoll():\n",
    "    totcoll = 0\n",
    "    for i in range(8):\n",
    "       totcoll += collision_count(i,queens[i])\n",
    "    return totcoll\n"
   ]
  },
  {
   "cell_type": "code",
   "execution_count": 5,
   "id": "30404ace",
   "metadata": {},
   "outputs": [],
   "source": [
    "while True:\n",
    "    for i in range(8):\n",
    "        queens[i] = random.randrange(0,8)\n",
    "        board[i][queens[i]] = 1\n",
    "    \n",
    "    totalcollision = totalcoll()\n",
    "\n",
    "    while True:\n",
    "        for i in range(8):\n",
    "            oldqueen = queens[i]\n",
    "        for j in range(8):\n",
    "            queens[i] = j\n",
    "            neighbour[i][j] = totalcoll()\n",
    "        queens[i] = oldqueen    \n",
    "        \n",
    "        min = neighbour[0][0]\n",
    "        minqueencol = 0\n",
    "        minqueenrow = 0\n",
    "        \n",
    "        for i in range(8):\n",
    "            for j in range(8):\n",
    "                if(neighbour[i][j]<min):\n",
    "                    min = neighbour[i][j]\n",
    "                    minqueenrow = j\n",
    "                    minqueencol = i\n",
    "                        \n",
    "        if min<totalcollision:\n",
    "            totalcollision = min\n",
    "            queens[minqueencol] = minqueenrow\n",
    "        else:\n",
    "            break\n",
    "\n",
    "    if totalcollision == 0:\n",
    "        break"
   ]
  },
  {
   "cell_type": "code",
   "execution_count": 6,
   "id": "3c06fd9f",
   "metadata": {},
   "outputs": [],
   "source": [
    "b = []\n",
    "for i in range(8):\n",
    "    for j in range(8):\n",
    "        b.append(board[i][j])"
   ]
  },
  {
   "cell_type": "code",
   "execution_count": 7,
   "id": "f862a2a4",
   "metadata": {},
   "outputs": [
    {
     "data": {
      "text/plain": [
       "array([[0, 0, 0, 0, 0, 1, 0, 0],\n",
       "       [0, 0, 0, 0, 0, 1, 0, 0],\n",
       "       [0, 0, 0, 0, 1, 0, 0, 0],\n",
       "       [0, 0, 0, 0, 0, 0, 1, 0],\n",
       "       [0, 0, 0, 0, 0, 1, 0, 0],\n",
       "       [0, 0, 0, 0, 1, 0, 0, 0],\n",
       "       [0, 0, 1, 0, 0, 0, 0, 0],\n",
       "       [0, 0, 0, 0, 0, 0, 1, 0]])"
      ]
     },
     "execution_count": 7,
     "metadata": {},
     "output_type": "execute_result"
    }
   ],
   "source": [
    "np.reshape(b, (8,8))"
   ]
  },
  {
   "cell_type": "code",
   "execution_count": null,
   "id": "dd21c3f5",
   "metadata": {},
   "outputs": [],
   "source": []
  }
 ],
 "metadata": {
  "kernelspec": {
   "display_name": "Python 3",
   "language": "python",
   "name": "python3"
  },
  "language_info": {
   "codemirror_mode": {
    "name": "ipython",
    "version": 3
   },
   "file_extension": ".py",
   "mimetype": "text/x-python",
   "name": "python",
   "nbconvert_exporter": "python",
   "pygments_lexer": "ipython3",
   "version": "3.8.8"
  }
 },
 "nbformat": 4,
 "nbformat_minor": 5
}
