{
 "cells": [
  {
   "cell_type": "code",
   "execution_count": 1,
   "id": "ee12a258",
   "metadata": {},
   "outputs": [],
   "source": [
    "import nltk"
   ]
  },
  {
   "cell_type": "code",
   "execution_count": 3,
   "id": "37b3097c",
   "metadata": {},
   "outputs": [
    {
     "name": "stdout",
     "output_type": "stream",
     "text": [
      "['Aniket', 'KHandave', 'is', 'from', 'India', '.']\n",
      "['I am Aniket.', 'I study in PICT college.', 'I am in 3rd year of IT Engineering.']\n"
     ]
    }
   ],
   "source": [
    "#tokenization\n",
    "from nltk.tokenize import sent_tokenize, word_tokenize\n",
    "text1= 'Aniket KHandave is from India.'\n",
    "#word tokenize\n",
    "print(word_tokenize(text1))\n",
    "\n",
    "#sentence tokenize\n",
    "text2= 'I am Aniket. I study in PICT college. I am in 3rd year of IT Engineering.'\n",
    "print(sent_tokenize(text2))"
   ]
  },
  {
   "cell_type": "code",
   "execution_count": 5,
   "id": "c92a63fb",
   "metadata": {},
   "outputs": [
    {
     "data": {
      "text/plain": [
       "['aniket', 'khandave', 'is', 'from', 'india.']"
      ]
     },
     "execution_count": 5,
     "metadata": {},
     "output_type": "execute_result"
    }
   ],
   "source": [
    "#lower conversion\n",
    "import re\n",
    "text = text1.lower()\n",
    "text.split()"
   ]
  },
  {
   "cell_type": "code",
   "execution_count": 7,
   "id": "bb4d0923",
   "metadata": {},
   "outputs": [
    {
     "name": "stdout",
     "output_type": "stream",
     "text": [
      "['However', 'while', 'it', 'can', 'be', 'used', 'to', 'highlight', 'important', 'details', 'or', 'enhance', 'rhythm', 'repetition', 'needs', 'to', 'be', 'done', 'with', 'care', 'If', 'you', 'accidentally', 'repeat', 'words', 'or', 're', 'state', 'the', 'same', 'information', 'for', 'readers', 'over', 'and', 'over', 'and', 'over', 'again', 'it', 'can', 'become', 'jarring', 'For', 'instance', 'if', 'you', 've', 'already', 'told', 'readers', 'that', 'a', 'character', 'has', 'an', 'unusual', 'beauty', 'mark', 'on', 'their', 'shoulder', 'mention', 'it', 'once', 'and', 'leave', 'it', 'at', 'that', 'Hearing', 'about', 'the', 'beauty', 'mark', 'every', 'time', 'that', 'character', 'is', 'in', 'a', 'scene', 'is', 'tiring', 'If', 'it', 's', 'crucial', 'to', 'bring', 'it', 'up', 'more', 'than', 'once', 'find', 'new', 'and', 'interesting', 'ways', 'of', 'bringing', 'attention', 'to', 'it', 'instead', 'of', 'just', 'stating', 'its', 'existence', 'maybe', 'you', 'can', 'have', 'another', 'character', 'comment', 'on', 'it']\n",
      "\n",
      "\n",
      "\n",
      " ['However', 'used', 'highlight', 'important', 'details', 'enhance', 'rhythm', 'repetition', 'needs', 'done', 'care', 'If', 'accidentally', 'repeat', 'words', 'state', 'information', 'readers', 'become', 'jarring', 'For', 'instance', 'already', 'told', 'readers', 'character', 'unusual', 'beauty', 'mark', 'shoulder', 'mention', 'leave', 'Hearing', 'beauty', 'mark', 'every', 'time', 'character', 'scene', 'tiring', 'If', 'crucial', 'bring', 'find', 'new', 'interesting', 'ways', 'bringing', 'attention', 'instead', 'stating', 'existence', 'maybe', 'another', 'character', 'comment']\n"
     ]
    }
   ],
   "source": [
    "from nltk.corpus import stopwords\n",
    "stop_words = set(stopwords.words('english'))\n",
    "example= 'However, while it can be used to highlight important details or enhance rhythm, repetition needs to be done with care. If you accidentally repeat words or re-state the same information for readers over and over (and over) again, it can become jarring. For instance, if you’ve already told readers that a character has an unusual beauty mark on their shoulder, mention it once and leave it at that. Hearing about the beauty mark every time that character is in a scene is tiring. If it’s crucial to bring it up more than once, find new and interesting ways of bringing attention to it — instead of just stating its existence, maybe you can have another character comment on it.'\n",
    "\n",
    "word_token = re.findall(r'\\w+',example)\n",
    "print(word_token)\n",
    "\n",
    "filtered_sentence = []\n",
    "\n",
    "for w in word_token:\n",
    "    if w not in stop_words:\n",
    "        filtered_sentence.append(w)\n",
    "        \n",
    "print('\\n\\n\\n',filtered_sentence)"
   ]
  },
  {
   "cell_type": "code",
   "execution_count": 8,
   "id": "67bcbdef",
   "metadata": {},
   "outputs": [
    {
     "data": {
      "image/png": "[encoded data removed]",
      "text/plain": [
       "<Figure size 432x288 with 1 Axes>"
      ]
     },
     "metadata": {},
     "output_type": "display_data"
    },
    {
     "data": {
      "text/plain": [
       "<AxesSubplot:xlabel='Samples', ylabel='Counts'>"
      ]
     },
     "execution_count": 8,
     "metadata": {},
     "output_type": "execute_result"
    }
   ],
   "source": [
    "# word freq\n",
    "import seaborn as sns\n",
    "import matplotlib.pyplot as plt\n",
    "\n",
    "sns.set_style('darkgrid')\n",
    "nlp_words = nltk.FreqDist(filtered_sentence)\n",
    "nlp_words.plot(10)"
   ]
  },
  {
   "cell_type": "code",
   "execution_count": 9,
   "id": "e7825962",
   "metadata": {},
   "outputs": [
    {
     "data": {
      "text/plain": [
       "[('character', 3),\n",
       " ('If', 2),\n",
       " ('readers', 2),\n",
       " ('beauty', 2),\n",
       " ('mark', 2),\n",
       " ('However', 1),\n",
       " ('used', 1),\n",
       " ('highlight', 1),\n",
       " ('important', 1),\n",
       " ('details', 1)]"
      ]
     },
     "execution_count": 9,
     "metadata": {},
     "output_type": "execute_result"
    }
   ],
   "source": [
    "nlp_words.most_common(10)"
   ]
  },
  {
   "cell_type": "code",
   "execution_count": 11,
   "id": "893e7ada",
   "metadata": {},
   "outputs": [
    {
     "name": "stdout",
     "output_type": "stream",
     "text": [
      "[('Sukanya', 'NNP'), ('Rajib', 'NNP'), ('Naba', 'NNP'), ('good', 'JJ'), ('friends', 'NNS')]\n",
      "[('I', 'PRP'), ('Half', 'NNP'), ('Blood', 'NNP'), ('Prince', 'NNP')]\n"
     ]
    }
   ],
   "source": [
    "#nltk.download('averaged_perceptron_tagger')\n",
    "#pos tagging\n",
    "txt = \"Sukanya, Rajib and Naba are my good friends. I am Half Blood Prince \"\n",
    "tokenized = sent_tokenize(txt)\n",
    "for i in tokenized:\n",
    "    # wordsList= word_tokenize(i)\n",
    "    wordsList = re.findall(r'\\w+',i)\n",
    "    # removing stop words from wordList\n",
    "    wordsList = [w for w in wordsList if not w in stop_words]\n",
    "\n",
    "      \n",
    "    tagged = nltk.pos_tag(wordsList)\n",
    "    print(tagged)"
   ]
  },
  {
   "cell_type": "code",
   "execution_count": null,
   "id": "a8ba6146",
   "metadata": {},
   "outputs": [],
   "source": []
  }
 ],
 "metadata": {
  "kernelspec": {
   "display_name": "Python 3",
   "language": "python",
   "name": "python3"
  },
  "language_info": {
   "codemirror_mode": {
    "name": "ipython",
    "version": 3
   },
   "file_extension": ".py",
   "mimetype": "text/x-python",
   "name": "python",
   "nbconvert_exporter": "python",
   "pygments_lexer": "ipython3",
   "version": "3.8.8"
  }
 },
 "nbformat": 4,
 "nbformat_minor": 5
}
