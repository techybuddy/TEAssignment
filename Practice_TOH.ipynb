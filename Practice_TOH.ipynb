{
 "cells": [
  {
   "cell_type": "code",
   "execution_count": 10,
   "id": "d2ed9d99",
   "metadata": {},
   "outputs": [
    {
     "name": "stdout",
     "output_type": "stream",
     "text": [
      "Enter the number of disks: 3\n",
      "\n",
      "Disk movements : \n",
      "\n",
      "Move disk 1  from  rod  A  to rod B\n",
      "Move disk 2  from  rod  A  to rod C\n",
      "Move disk 1  from  rod  B  to rod C\n",
      "Move disk 3  from  rod  A  to rod B\n",
      "Move disk 1  from  rod  C  to rod A\n",
      "Move disk 2  from  rod  C  to rod B\n",
      "Move disk 1  from  rod  A  to rod B\n",
      "\n",
      "Total number of disc moves :  7\n"
     ]
    }
   ],
   "source": [
    "class TOH:\n",
    "    count = 0\n",
    "    \n",
    "    def tower_of_hanoi(self,n,from_rod,to_rod,aux_rod):\n",
    "        if n==0:\n",
    "            return;\n",
    "        self.tower_of_hanoi(n-1,from_rod,aux_rod,to_rod)\n",
    "        self.count +=1\n",
    "        print(\"Move disk\" ,n, \" from  rod \" ,from_rod, \" to rod\" ,to_rod)\n",
    "        self.tower_of_hanoi(n-1,aux_rod,to_rod,from_rod)\n",
    "        \n",
    "\n",
    "obj = TOH()\n",
    "n = int(input(\"Enter the number of disks: \"))\n",
    "print(\"\\nDisk movements : \\n\")\n",
    "obj.tower_of_hanoi(n,\"A\",\"B\",\"C\")\n",
    "print(\"\\nTotal number of disc moves : \" ,obj.count)\n"
   ]
  },
  {
   "cell_type": "code",
   "execution_count": null,
   "id": "5089bbf3",
   "metadata": {},
   "outputs": [],
   "source": []
  },
  {
   "cell_type": "code",
   "execution_count": null,
   "id": "40dc61f7",
   "metadata": {},
   "outputs": [],
   "source": []
  }
 ],
 "metadata": {
  "kernelspec": {
   "display_name": "Python 3",
   "language": "python",
   "name": "python3"
  },
  "language_info": {
   "codemirror_mode": {
    "name": "ipython",
    "version": 3
   },
   "file_extension": ".py",
   "mimetype": "text/x-python",
   "name": "python",
   "nbconvert_exporter": "python",
   "pygments_lexer": "ipython3",
   "version": "3.8.8"
  }
 },
 "nbformat": 4,
 "nbformat_minor": 5
}
