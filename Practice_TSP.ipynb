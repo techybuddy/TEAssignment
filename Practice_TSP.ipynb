{
 "cells": [
  {
   "cell_type": "code",
   "execution_count": 19,
   "id": "07bf54f0",
   "metadata": {},
   "outputs": [],
   "source": [
    "import copy \n",
    "inf = float('inf')"
   ]
  },
  {
   "cell_type": "code",
   "execution_count": 20,
   "id": "21e33f5d",
   "metadata": {},
   "outputs": [],
   "source": [
    "class TSP:\n",
    "    \n",
    "    def __init__(self, city_matrix=None, source=0):\n",
    "        self.city_matrix = [[0]*4]*4 if city_matrix is None else city_matrix\n",
    "        self.n: int = len(self.city_matrix)\n",
    "        self.source : int = source\n",
    "    \n",
    "    def solve(self):\n",
    "        mincost = inf      #initially mincost is empty \n",
    "        for i in range(self.n):\n",
    "            print(\"Path \",end='')\n",
    "            cost = self.calculate(copy.deepcopy(city_matrix),i,i)\n",
    "            print(f\" -> {i+1} : Cost = {cost}\")\n",
    "            if cost and cost<mincost:\n",
    "                mincost = cost\n",
    "        return mincost\n",
    "    \n",
    "    \n",
    "    \n",
    "    def calculate(self,city_matrix,currCity=0, source=0):\n",
    "        if self.n < 2:\n",
    "            return 0\n",
    "        print(f\" -> {currCity+1}\",end='')\n",
    "        \n",
    "        for i in range(self.n):\n",
    "            city_matrix[i][currCity] = inf\n",
    "            \n",
    "        currMin, currMinPos = inf, 0\n",
    "        \n",
    "        for j in range(self.n):\n",
    "            if currMin > city_matrix[currCity][j]:\n",
    "                currMin, currMinPos = city_matrix[currCity][j], j\n",
    "        \n",
    "        if currMin == inf:\n",
    "            return self.city_matrix[currCity][source]\n",
    "        \n",
    "        city_matrix[currCity][currMinPos] = city_matrix[currMinPos][currCity] = inf\n",
    "        \n",
    "        return currMin + self.calculate(city_matrix,currMinPos,source)\n",
    "        "
   ]
  },
  {
   "cell_type": "code",
   "execution_count": 21,
   "id": "28519371",
   "metadata": {},
   "outputs": [
    {
     "name": "stdout",
     "output_type": "stream",
     "text": [
      "Path  -> 1 -> 2 -> 4 -> 3 -> 1 : Cost = 80\n",
      "Path  -> 2 -> 1 -> 3 -> 4 -> 2 : Cost = 80\n",
      "Path  -> 3 -> 1 -> 2 -> 4 -> 3 : Cost = 80\n",
      "Path  -> 4 -> 1 -> 2 -> 3 -> 4 : Cost = 95\n",
      "Optimal cost = 80\n"
     ]
    }
   ],
   "source": [
    "if __name__=='__main__':\n",
    "    city_matrix = [\n",
    "        [inf,10,15,20],\n",
    "        [10,inf,35,25],\n",
    "        [15,35,inf,30],\n",
    "        [20,25,30,inf]\n",
    "    ]\n",
    "    \n",
    "    source_city = 0;\n",
    "    obj = TSP(city_matrix,source_city)\n",
    "    print(f\"Optimal cost = {obj.solve()}\")"
   ]
  }
 ],
 "metadata": {
  "kernelspec": {
   "display_name": "Python 3",
   "language": "python",
   "name": "python3"
  },
  "language_info": {
   "codemirror_mode": {
    "name": "ipython",
    "version": 3
   },
   "file_extension": ".py",
   "mimetype": "text/x-python",
   "name": "python",
   "nbconvert_exporter": "python",
   "pygments_lexer": "ipython3",
   "version": "3.8.8"
  }
 },
 "nbformat": 4,
 "nbformat_minor": 5
}
